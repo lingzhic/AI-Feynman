{
 "cells": [
  {
   "cell_type": "code",
   "execution_count": 1,
   "metadata": {},
   "outputs": [],
   "source": [
    "from aifeynman import run_aifeynman\n",
    "import os\n",
    "import random\n",
    "import numpy as np\n",
    "import matplotlib.pyplot as plt"
   ]
  },
  {
   "cell_type": "code",
   "execution_count": 2,
   "metadata": {},
   "outputs": [],
   "source": [
    "def get_lj(e=0.17, s=3.25, r=0):\n",
    "    V = 4*e * ((s/r)**12 - (s/r)**6)\n",
    "    return V\n",
    "\n",
    "x = np.arange(3, 6, 0.01)\n",
    "e = [0.17] * len(x)\n",
    "s = [3.25] * len(x)\n",
    "V_lj = get_lj(r=x)\n",
    "\n",
    "lj_dataset = np.c_[e, s, x, V_lj]\n",
    "\n",
    "with open(\"../LJ_input/lj.txt\", \"w\") as f:\n",
    "    np.savetxt(f, lj_dataset)"
   ]
  },
  {
   "cell_type": "code",
   "execution_count": 3,
   "metadata": {},
   "outputs": [
    {
     "data": {
      "image/png": "[encoded data removed]",
      "text/plain": [
       "<Figure size 432x288 with 1 Axes>"
      ]
     },
     "metadata": {
      "needs_background": "light"
     },
     "output_type": "display_data"
    }
   ],
   "source": [
    "X_train = x\n",
    "y_train = V_lj\n",
    "\n",
    "dash_line_x = x\n",
    "dash_line_y = np.array([0] * len(x))\n",
    "\n",
    "plt.title(\"LJ input plot\", fontsize=18)\n",
    "plt.xlabel('$Reaction coordinate (r)$')\n",
    "plt.ylabel('$Potential (V)$')\n",
    "plt.plot(dash_line_x, dash_line_y, color='lightgrey')\n",
    "plt.plot(X_train, y_train, color='red')\n",
    "plt.show()"
   ]
  },
  {
   "cell_type": "code",
   "execution_count": 4,
   "metadata": {},
   "outputs": [
    {
     "name": "stdout",
     "output_type": "stream",
     "text": [
      "Checking for brute force + \n",
      "\n",
      "Trying to solve mysteries with brute force...\n",
      "Trying to solve ../LJ_input/lj.txt_train\n"
     ]
    },
    {
     "name": "stderr",
     "output_type": "stream",
     "text": [
      "Traceback (most recent call last):\n",
      "  File \"/Users/Collin/anaconda3/envs/Feynman/bin/feynman_sr_mdl_plus\", line 5, in <module>\n",
      "    from aifeynman._symbolic_regress_mdl2 import go\n",
      "ImportError: dlopen(/Users/Collin/anaconda3/envs/Feynman/lib/python3.7/site-packages/aifeynman/_symbolic_regress_mdl2.cpython-37m-darwin.so, 2): Library not loaded: /usr/local/opt/gcc/lib/gcc/8/libgfortran.5.dylib\n",
      "  Referenced from: /Users/Collin/anaconda3/envs/Feynman/lib/python3.7/site-packages/aifeynman/_symbolic_regress_mdl2.cpython-37m-darwin.so\n",
      "  Reason: image not found\n"
     ]
    },
    {
     "name": "stdout",
     "output_type": "stream",
     "text": [
      "Checking for brute force * \n",
      "\n",
      "Trying to solve mysteries with brute force...\n",
      "Trying to solve ../LJ_input/lj.txt_train\n"
     ]
    },
    {
     "name": "stderr",
     "output_type": "stream",
     "text": [
      "Traceback (most recent call last):\n",
      "  File \"/Users/Collin/anaconda3/envs/Feynman/bin/feynman_sr_mdl_mult\", line 5, in <module>\n",
      "    from aifeynman._symbolic_regress_mdl3 import go\n",
      "ImportError: dlopen(/Users/Collin/anaconda3/envs/Feynman/lib/python3.7/site-packages/aifeynman/_symbolic_regress_mdl3.cpython-37m-darwin.so, 2): Library not loaded: /usr/local/opt/gcc/lib/gcc/8/libgfortran.5.dylib\n",
      "  Referenced from: /Users/Collin/anaconda3/envs/Feynman/lib/python3.7/site-packages/aifeynman/_symbolic_regress_mdl3.cpython-37m-darwin.so\n",
      "  Reason: image not found\n"
     ]
    },
    {
     "name": "stdout",
     "output_type": "stream",
     "text": [
      "Checking polyfit \n",
      "\n",
      "Pareto frontier in the current branch:\n",
      "\n",
      "Complexity #  MDL Loss #  Expression\n",
      "84.81 39.71 0.01*x2**8 - 0.02*x2**7 + 0.01*x2**6 - 0.01*x2**5 + 0.02*x2**4 - 0.05*x2**2 + 0.09*x2 - 0.08\n",
      "\n",
      "Checking for brute force + \n",
      "\n",
      "Trying to solve mysteries with brute force...\n",
      "Trying to solve results/mystery_world_squared/lj.txt_train\n"
     ]
    },
    {
     "name": "stderr",
     "output_type": "stream",
     "text": [
      "Traceback (most recent call last):\n",
      "  File \"/Users/Collin/anaconda3/envs/Feynman/bin/feynman_sr_mdl_plus\", line 5, in <module>\n",
      "    from aifeynman._symbolic_regress_mdl2 import go\n",
      "ImportError: dlopen(/Users/Collin/anaconda3/envs/Feynman/lib/python3.7/site-packages/aifeynman/_symbolic_regress_mdl2.cpython-37m-darwin.so, 2): Library not loaded: /usr/local/opt/gcc/lib/gcc/8/libgfortran.5.dylib\n",
      "  Referenced from: /Users/Collin/anaconda3/envs/Feynman/lib/python3.7/site-packages/aifeynman/_symbolic_regress_mdl2.cpython-37m-darwin.so\n",
      "  Reason: image not found\n"
     ]
    },
    {
     "name": "stdout",
     "output_type": "stream",
     "text": [
      "Checking for brute force * \n",
      "\n",
      "Trying to solve mysteries with brute force...\n",
      "Trying to solve results/mystery_world_squared/lj.txt_train\n"
     ]
    },
    {
     "name": "stderr",
     "output_type": "stream",
     "text": [
      "Traceback (most recent call last):\n",
      "  File \"/Users/Collin/anaconda3/envs/Feynman/bin/feynman_sr_mdl_mult\", line 5, in <module>\n",
      "    from aifeynman._symbolic_regress_mdl3 import go\n",
      "ImportError: dlopen(/Users/Collin/anaconda3/envs/Feynman/lib/python3.7/site-packages/aifeynman/_symbolic_regress_mdl3.cpython-37m-darwin.so, 2): Library not loaded: /usr/local/opt/gcc/lib/gcc/8/libgfortran.5.dylib\n",
      "  Referenced from: /Users/Collin/anaconda3/envs/Feynman/lib/python3.7/site-packages/aifeynman/_symbolic_regress_mdl3.cpython-37m-darwin.so\n",
      "  Reason: image not found\n"
     ]
    },
    {
     "name": "stdout",
     "output_type": "stream",
     "text": [
      "Checking polyfit \n",
      "\n",
      "Pareto frontier in the current branch:\n",
      "\n",
      "Complexity #  MDL Loss #  Expression\n",
      "84.81 39.71 0.01*x2**8 - 0.02*x2**7 + 0.01*x2**6 - 0.01*x2**5 + 0.02*x2**4 - 0.05*x2**2 + 0.09*x2 - 0.08\n",
      "\n",
      "Checking for brute force + \n",
      "\n",
      "Trying to solve mysteries with brute force...\n",
      "Trying to solve results/mystery_world_acos/lj.txt_train\n"
     ]
    },
    {
     "name": "stderr",
     "output_type": "stream",
     "text": [
      "Traceback (most recent call last):\n",
      "  File \"/Users/Collin/anaconda3/envs/Feynman/bin/feynman_sr_mdl_plus\", line 5, in <module>\n",
      "    from aifeynman._symbolic_regress_mdl2 import go\n",
      "ImportError: dlopen(/Users/Collin/anaconda3/envs/Feynman/lib/python3.7/site-packages/aifeynman/_symbolic_regress_mdl2.cpython-37m-darwin.so, 2): Library not loaded: /usr/local/opt/gcc/lib/gcc/8/libgfortran.5.dylib\n",
      "  Referenced from: /Users/Collin/anaconda3/envs/Feynman/lib/python3.7/site-packages/aifeynman/_symbolic_regress_mdl2.cpython-37m-darwin.so\n",
      "  Reason: image not found\n"
     ]
    },
    {
     "name": "stdout",
     "output_type": "stream",
     "text": [
      "Checking for brute force * \n",
      "\n",
      "Trying to solve mysteries with brute force...\n",
      "Trying to solve results/mystery_world_acos/lj.txt_train\n"
     ]
    },
    {
     "name": "stderr",
     "output_type": "stream",
     "text": [
      "Traceback (most recent call last):\n",
      "  File \"/Users/Collin/anaconda3/envs/Feynman/bin/feynman_sr_mdl_mult\", line 5, in <module>\n",
      "    from aifeynman._symbolic_regress_mdl3 import go\n",
      "ImportError: dlopen(/Users/Collin/anaconda3/envs/Feynman/lib/python3.7/site-packages/aifeynman/_symbolic_regress_mdl3.cpython-37m-darwin.so, 2): Library not loaded: /usr/local/opt/gcc/lib/gcc/8/libgfortran.5.dylib\n",
      "  Referenced from: /Users/Collin/anaconda3/envs/Feynman/lib/python3.7/site-packages/aifeynman/_symbolic_regress_mdl3.cpython-37m-darwin.so\n",
      "  Reason: image not found\n"
     ]
    },
    {
     "name": "stdout",
     "output_type": "stream",
     "text": [
      "Checking polyfit \n",
      "\n",
      "Pareto frontier in the current branch:\n",
      "\n",
      "Complexity #  MDL Loss #  Expression\n",
      "84.81 39.71 0.01*x2**8 - 0.02*x2**7 + 0.01*x2**6 - 0.01*x2**5 + 0.02*x2**4 - 0.05*x2**2 + 0.09*x2 - 0.08\n",
      "137.68 30.4 cos(-0.02*x2**12 + 0.02*x2**11 + 0.1*x2**10 - 0.08*x2**9 - 0.21*x2**8 + 0.15*x2**7 + 0.18*x2**6 - 0.09*x2**5 - 0.1*x2**4 + 0.03*x2**3 + 0.06*x2**2 - 0.1*x2 + 1.65)\n",
      "\n",
      "Checking for brute force + \n",
      "\n",
      "Trying to solve mysteries with brute force...\n",
      "Trying to solve results/mystery_world_asin/lj.txt_train\n"
     ]
    },
    {
     "name": "stderr",
     "output_type": "stream",
     "text": [
      "Traceback (most recent call last):\n",
      "  File \"/Users/Collin/anaconda3/envs/Feynman/bin/feynman_sr_mdl_plus\", line 5, in <module>\n",
      "    from aifeynman._symbolic_regress_mdl2 import go\n",
      "ImportError: dlopen(/Users/Collin/anaconda3/envs/Feynman/lib/python3.7/site-packages/aifeynman/_symbolic_regress_mdl2.cpython-37m-darwin.so, 2): Library not loaded: /usr/local/opt/gcc/lib/gcc/8/libgfortran.5.dylib\n",
      "  Referenced from: /Users/Collin/anaconda3/envs/Feynman/lib/python3.7/site-packages/aifeynman/_symbolic_regress_mdl2.cpython-37m-darwin.so\n",
      "  Reason: image not found\n"
     ]
    },
    {
     "name": "stdout",
     "output_type": "stream",
     "text": [
      "Checking for brute force * \n",
      "\n",
      "Trying to solve mysteries with brute force...\n",
      "Trying to solve results/mystery_world_asin/lj.txt_train\n"
     ]
    },
    {
     "name": "stderr",
     "output_type": "stream",
     "text": [
      "Traceback (most recent call last):\n",
      "  File \"/Users/Collin/anaconda3/envs/Feynman/bin/feynman_sr_mdl_mult\", line 5, in <module>\n",
      "    from aifeynman._symbolic_regress_mdl3 import go\n",
      "ImportError: dlopen(/Users/Collin/anaconda3/envs/Feynman/lib/python3.7/site-packages/aifeynman/_symbolic_regress_mdl3.cpython-37m-darwin.so, 2): Library not loaded: /usr/local/opt/gcc/lib/gcc/8/libgfortran.5.dylib\n",
      "  Referenced from: /Users/Collin/anaconda3/envs/Feynman/lib/python3.7/site-packages/aifeynman/_symbolic_regress_mdl3.cpython-37m-darwin.so\n",
      "  Reason: image not found\n"
     ]
    },
    {
     "name": "stdout",
     "output_type": "stream",
     "text": [
      "Checking polyfit \n",
      "\n",
      "Pareto frontier in the current branch:\n",
      "\n",
      "Complexity #  MDL Loss #  Expression\n",
      "84.81 39.71 0.01*x2**8 - 0.02*x2**7 + 0.01*x2**6 - 0.01*x2**5 + 0.02*x2**4 - 0.05*x2**2 + 0.09*x2 - 0.08\n",
      "135.5 28.91 sin(0.02*x2**12 - 0.02*x2**11 - 0.1*x2**10 + 0.08*x2**9 + 0.21*x2**8 - 0.15*x2**7 - 0.18*x2**6 + 0.09*x2**5 + 0.1*x2**4 - 0.03*x2**3 - 0.06*x2**2 + 0.1*x2 - 0.08)\n",
      "\n",
      "Checking for brute force + \n",
      "\n",
      "Trying to solve mysteries with brute force...\n",
      "Trying to solve results/mystery_world_atan/lj.txt_train\n"
     ]
    },
    {
     "name": "stderr",
     "output_type": "stream",
     "text": [
      "Traceback (most recent call last):\n",
      "  File \"/Users/Collin/anaconda3/envs/Feynman/bin/feynman_sr_mdl_plus\", line 5, in <module>\n",
      "    from aifeynman._symbolic_regress_mdl2 import go\n",
      "ImportError: dlopen(/Users/Collin/anaconda3/envs/Feynman/lib/python3.7/site-packages/aifeynman/_symbolic_regress_mdl2.cpython-37m-darwin.so, 2): Library not loaded: /usr/local/opt/gcc/lib/gcc/8/libgfortran.5.dylib\n",
      "  Referenced from: /Users/Collin/anaconda3/envs/Feynman/lib/python3.7/site-packages/aifeynman/_symbolic_regress_mdl2.cpython-37m-darwin.so\n",
      "  Reason: image not found\n"
     ]
    },
    {
     "name": "stdout",
     "output_type": "stream",
     "text": [
      "Checking for brute force * \n",
      "\n",
      "Trying to solve mysteries with brute force...\n",
      "Trying to solve results/mystery_world_atan/lj.txt_train\n"
     ]
    },
    {
     "name": "stderr",
     "output_type": "stream",
     "text": [
      "Traceback (most recent call last):\n",
      "  File \"/Users/Collin/anaconda3/envs/Feynman/bin/feynman_sr_mdl_mult\", line 5, in <module>\n",
      "    from aifeynman._symbolic_regress_mdl3 import go\n",
      "ImportError: dlopen(/Users/Collin/anaconda3/envs/Feynman/lib/python3.7/site-packages/aifeynman/_symbolic_regress_mdl3.cpython-37m-darwin.so, 2): Library not loaded: /usr/local/opt/gcc/lib/gcc/8/libgfortran.5.dylib\n",
      "  Referenced from: /Users/Collin/anaconda3/envs/Feynman/lib/python3.7/site-packages/aifeynman/_symbolic_regress_mdl3.cpython-37m-darwin.so\n",
      "  Reason: image not found\n"
     ]
    },
    {
     "name": "stdout",
     "output_type": "stream",
     "text": [
      "Checking polyfit \n",
      "\n",
      "Pareto frontier in the current branch:\n",
      "\n",
      "Complexity #  MDL Loss #  Expression\n",
      "84.81 39.71 0.01*x2**8 - 0.02*x2**7 + 0.01*x2**6 - 0.01*x2**5 + 0.02*x2**4 - 0.05*x2**2 + 0.09*x2 - 0.08\n",
      "134.24 29.92 tan(-0.02*x2**12 + 0.01*x2**11 + 0.08*x2**10 - 0.08*x2**9 - 0.16*x2**8 + 0.12*x2**7 + 0.16*x2**6 - 0.12*x2**5 - 0.04*x2**4 + 0.03*x2**3 - 0.04*x2**2 + 0.09*x2 - 0.08)\n",
      "135.5 28.91 sin(0.02*x2**12 - 0.02*x2**11 - 0.1*x2**10 + 0.08*x2**9 + 0.21*x2**8 - 0.15*x2**7 - 0.18*x2**6 + 0.09*x2**5 + 0.1*x2**4 - 0.03*x2**3 - 0.06*x2**2 + 0.1*x2 - 0.08)\n",
      "\n",
      "Checking for brute force + \n",
      "\n",
      "Trying to solve mysteries with brute force...\n",
      "Trying to solve results/mystery_world_cos/lj.txt_train\n"
     ]
    },
    {
     "name": "stderr",
     "output_type": "stream",
     "text": [
      "Traceback (most recent call last):\n",
      "  File \"/Users/Collin/anaconda3/envs/Feynman/bin/feynman_sr_mdl_plus\", line 5, in <module>\n",
      "    from aifeynman._symbolic_regress_mdl2 import go\n",
      "ImportError: dlopen(/Users/Collin/anaconda3/envs/Feynman/lib/python3.7/site-packages/aifeynman/_symbolic_regress_mdl2.cpython-37m-darwin.so, 2): Library not loaded: /usr/local/opt/gcc/lib/gcc/8/libgfortran.5.dylib\n",
      "  Referenced from: /Users/Collin/anaconda3/envs/Feynman/lib/python3.7/site-packages/aifeynman/_symbolic_regress_mdl2.cpython-37m-darwin.so\n",
      "  Reason: image not found\n"
     ]
    },
    {
     "name": "stdout",
     "output_type": "stream",
     "text": [
      "Checking for brute force * \n",
      "\n",
      "Trying to solve mysteries with brute force...\n",
      "Trying to solve results/mystery_world_cos/lj.txt_train\n"
     ]
    },
    {
     "name": "stderr",
     "output_type": "stream",
     "text": [
      "Traceback (most recent call last):\n",
      "  File \"/Users/Collin/anaconda3/envs/Feynman/bin/feynman_sr_mdl_mult\", line 5, in <module>\n",
      "    from aifeynman._symbolic_regress_mdl3 import go\n",
      "ImportError: dlopen(/Users/Collin/anaconda3/envs/Feynman/lib/python3.7/site-packages/aifeynman/_symbolic_regress_mdl3.cpython-37m-darwin.so, 2): Library not loaded: /usr/local/opt/gcc/lib/gcc/8/libgfortran.5.dylib\n",
      "  Referenced from: /Users/Collin/anaconda3/envs/Feynman/lib/python3.7/site-packages/aifeynman/_symbolic_regress_mdl3.cpython-37m-darwin.so\n",
      "  Reason: image not found\n"
     ]
    },
    {
     "name": "stdout",
     "output_type": "stream",
     "text": [
      "Checking polyfit \n",
      "\n",
      "Pareto frontier in the current branch:\n",
      "\n",
      "Complexity #  MDL Loss #  Expression\n",
      "84.81 39.71 0.01*x2**8 - 0.02*x2**7 + 0.01*x2**6 - 0.01*x2**5 + 0.02*x2**4 - 0.05*x2**2 + 0.09*x2 - 0.08\n",
      "134.24 29.92 tan(-0.02*x2**12 + 0.01*x2**11 + 0.08*x2**10 - 0.08*x2**9 - 0.16*x2**8 + 0.12*x2**7 + 0.16*x2**6 - 0.12*x2**5 - 0.04*x2**4 + 0.03*x2**3 - 0.04*x2**2 + 0.09*x2 - 0.08)\n",
      "135.5 28.91 sin(0.02*x2**12 - 0.02*x2**11 - 0.1*x2**10 + 0.08*x2**9 + 0.21*x2**8 - 0.15*x2**7 - 0.18*x2**6 + 0.09*x2**5 + 0.1*x2**4 - 0.03*x2**3 - 0.06*x2**2 + 0.1*x2 - 0.08)\n",
      "\n",
      "Checking for brute force + \n",
      "\n",
      "Trying to solve mysteries with brute force...\n",
      "Trying to solve results/mystery_world_exp/lj.txt_train\n"
     ]
    },
    {
     "name": "stderr",
     "output_type": "stream",
     "text": [
      "Traceback (most recent call last):\n",
      "  File \"/Users/Collin/anaconda3/envs/Feynman/bin/feynman_sr_mdl_plus\", line 5, in <module>\n",
      "    from aifeynman._symbolic_regress_mdl2 import go\n",
      "ImportError: dlopen(/Users/Collin/anaconda3/envs/Feynman/lib/python3.7/site-packages/aifeynman/_symbolic_regress_mdl2.cpython-37m-darwin.so, 2): Library not loaded: /usr/local/opt/gcc/lib/gcc/8/libgfortran.5.dylib\n",
      "  Referenced from: /Users/Collin/anaconda3/envs/Feynman/lib/python3.7/site-packages/aifeynman/_symbolic_regress_mdl2.cpython-37m-darwin.so\n",
      "  Reason: image not found\n"
     ]
    },
    {
     "name": "stdout",
     "output_type": "stream",
     "text": [
      "Checking for brute force * \n",
      "\n",
      "Trying to solve mysteries with brute force...\n",
      "Trying to solve results/mystery_world_exp/lj.txt_train\n"
     ]
    },
    {
     "name": "stderr",
     "output_type": "stream",
     "text": [
      "Traceback (most recent call last):\n",
      "  File \"/Users/Collin/anaconda3/envs/Feynman/bin/feynman_sr_mdl_mult\", line 5, in <module>\n",
      "    from aifeynman._symbolic_regress_mdl3 import go\n",
      "ImportError: dlopen(/Users/Collin/anaconda3/envs/Feynman/lib/python3.7/site-packages/aifeynman/_symbolic_regress_mdl3.cpython-37m-darwin.so, 2): Library not loaded: /usr/local/opt/gcc/lib/gcc/8/libgfortran.5.dylib\n",
      "  Referenced from: /Users/Collin/anaconda3/envs/Feynman/lib/python3.7/site-packages/aifeynman/_symbolic_regress_mdl3.cpython-37m-darwin.so\n",
      "  Reason: image not found\n"
     ]
    },
    {
     "name": "stdout",
     "output_type": "stream",
     "text": [
      "Checking polyfit \n",
      "\n",
      "Pareto frontier in the current branch:\n",
      "\n",
      "Complexity #  MDL Loss #  Expression\n",
      "84.81 39.71 0.01*x2**8 - 0.02*x2**7 + 0.01*x2**6 - 0.01*x2**5 + 0.02*x2**4 - 0.05*x2**2 + 0.09*x2 - 0.08\n",
      "133.62 33.63 log(0.03*x2**12 - 0.04*x2**11 - 0.15*x2**10 + 0.15*x2**9 + 0.3*x2**8 - 0.26*x2**7 - 0.25*x2**6 + 0.16*x2**5 + 0.12*x2**4 - 0.05*x2**3 - 0.06*x2**2 + 0.09*x2 + 0.92)\n",
      "134.24 29.92 tan(-0.02*x2**12 + 0.01*x2**11 + 0.08*x2**10 - 0.08*x2**9 - 0.16*x2**8 + 0.12*x2**7 + 0.16*x2**6 - 0.12*x2**5 - 0.04*x2**4 + 0.03*x2**3 - 0.04*x2**2 + 0.09*x2 - 0.08)\n",
      "135.5 28.91 sin(0.02*x2**12 - 0.02*x2**11 - 0.1*x2**10 + 0.08*x2**9 + 0.21*x2**8 - 0.15*x2**7 - 0.18*x2**6 + 0.09*x2**5 + 0.1*x2**4 - 0.03*x2**3 - 0.06*x2**2 + 0.1*x2 - 0.08)\n",
      "\n",
      "Checking for brute force + \n",
      "\n",
      "Trying to solve mysteries with brute force...\n",
      "Trying to solve results/mystery_world_inverse/lj.txt_train\n"
     ]
    },
    {
     "name": "stderr",
     "output_type": "stream",
     "text": [
      "Traceback (most recent call last):\n",
      "  File \"/Users/Collin/anaconda3/envs/Feynman/bin/feynman_sr_mdl_plus\", line 5, in <module>\n",
      "    from aifeynman._symbolic_regress_mdl2 import go\n",
      "ImportError: dlopen(/Users/Collin/anaconda3/envs/Feynman/lib/python3.7/site-packages/aifeynman/_symbolic_regress_mdl2.cpython-37m-darwin.so, 2): Library not loaded: /usr/local/opt/gcc/lib/gcc/8/libgfortran.5.dylib\n",
      "  Referenced from: /Users/Collin/anaconda3/envs/Feynman/lib/python3.7/site-packages/aifeynman/_symbolic_regress_mdl2.cpython-37m-darwin.so\n",
      "  Reason: image not found\n"
     ]
    },
    {
     "name": "stdout",
     "output_type": "stream",
     "text": [
      "Checking for brute force * \n",
      "\n",
      "Trying to solve mysteries with brute force...\n",
      "Trying to solve results/mystery_world_inverse/lj.txt_train\n"
     ]
    },
    {
     "name": "stderr",
     "output_type": "stream",
     "text": [
      "Traceback (most recent call last):\n",
      "  File \"/Users/Collin/anaconda3/envs/Feynman/bin/feynman_sr_mdl_mult\", line 5, in <module>\n",
      "    from aifeynman._symbolic_regress_mdl3 import go\n",
      "ImportError: dlopen(/Users/Collin/anaconda3/envs/Feynman/lib/python3.7/site-packages/aifeynman/_symbolic_regress_mdl3.cpython-37m-darwin.so, 2): Library not loaded: /usr/local/opt/gcc/lib/gcc/8/libgfortran.5.dylib\n",
      "  Referenced from: /Users/Collin/anaconda3/envs/Feynman/lib/python3.7/site-packages/aifeynman/_symbolic_regress_mdl3.cpython-37m-darwin.so\n",
      "  Reason: image not found\n"
     ]
    },
    {
     "name": "stdout",
     "output_type": "stream",
     "text": [
      "Checking polyfit \n",
      "\n",
      "Pareto frontier in the current branch:\n",
      "\n",
      "Complexity #  MDL Loss #  Expression\n",
      "84.81 39.71 0.01*x2**8 - 0.02*x2**7 + 0.01*x2**6 - 0.01*x2**5 + 0.02*x2**4 - 0.05*x2**2 + 0.09*x2 - 0.08\n",
      "133.62 33.63 log(0.03*x2**12 - 0.04*x2**11 - 0.15*x2**10 + 0.15*x2**9 + 0.3*x2**8 - 0.26*x2**7 - 0.25*x2**6 + 0.16*x2**5 + 0.12*x2**4 - 0.05*x2**3 - 0.06*x2**2 + 0.09*x2 + 0.92)\n",
      "134.24 29.92 tan(-0.02*x2**12 + 0.01*x2**11 + 0.08*x2**10 - 0.08*x2**9 - 0.16*x2**8 + 0.12*x2**7 + 0.16*x2**6 - 0.12*x2**5 - 0.04*x2**4 + 0.03*x2**3 - 0.04*x2**2 + 0.09*x2 - 0.08)\n",
      "135.5 28.91 sin(0.02*x2**12 - 0.02*x2**11 - 0.1*x2**10 + 0.08*x2**9 + 0.21*x2**8 - 0.15*x2**7 - 0.18*x2**6 + 0.09*x2**5 + 0.1*x2**4 - 0.03*x2**3 - 0.06*x2**2 + 0.1*x2 - 0.08)\n",
      "\n",
      "Checking for brute force + \n",
      "\n",
      "Trying to solve mysteries with brute force...\n",
      "Trying to solve results/mystery_world_sin/lj.txt_train\n"
     ]
    },
    {
     "name": "stderr",
     "output_type": "stream",
     "text": [
      "Traceback (most recent call last):\n",
      "  File \"/Users/Collin/anaconda3/envs/Feynman/bin/feynman_sr_mdl_plus\", line 5, in <module>\n",
      "    from aifeynman._symbolic_regress_mdl2 import go\n",
      "ImportError: dlopen(/Users/Collin/anaconda3/envs/Feynman/lib/python3.7/site-packages/aifeynman/_symbolic_regress_mdl2.cpython-37m-darwin.so, 2): Library not loaded: /usr/local/opt/gcc/lib/gcc/8/libgfortran.5.dylib\n",
      "  Referenced from: /Users/Collin/anaconda3/envs/Feynman/lib/python3.7/site-packages/aifeynman/_symbolic_regress_mdl2.cpython-37m-darwin.so\n",
      "  Reason: image not found\n"
     ]
    },
    {
     "name": "stdout",
     "output_type": "stream",
     "text": [
      "Checking for brute force * \n",
      "\n",
      "Trying to solve mysteries with brute force...\n",
      "Trying to solve results/mystery_world_sin/lj.txt_train\n"
     ]
    },
    {
     "name": "stderr",
     "output_type": "stream",
     "text": [
      "Traceback (most recent call last):\n",
      "  File \"/Users/Collin/anaconda3/envs/Feynman/bin/feynman_sr_mdl_mult\", line 5, in <module>\n",
      "    from aifeynman._symbolic_regress_mdl3 import go\n",
      "ImportError: dlopen(/Users/Collin/anaconda3/envs/Feynman/lib/python3.7/site-packages/aifeynman/_symbolic_regress_mdl3.cpython-37m-darwin.so, 2): Library not loaded: /usr/local/opt/gcc/lib/gcc/8/libgfortran.5.dylib\n",
      "  Referenced from: /Users/Collin/anaconda3/envs/Feynman/lib/python3.7/site-packages/aifeynman/_symbolic_regress_mdl3.cpython-37m-darwin.so\n",
      "  Reason: image not found\n"
     ]
    },
    {
     "name": "stdout",
     "output_type": "stream",
     "text": [
      "Checking polyfit \n",
      "\n",
      "Pareto frontier in the current branch:\n",
      "\n",
      "Complexity #  MDL Loss #  Expression\n",
      "84.81 39.71 0.01*x2**8 - 0.02*x2**7 + 0.01*x2**6 - 0.01*x2**5 + 0.02*x2**4 - 0.05*x2**2 + 0.09*x2 - 0.08\n",
      "133.62 33.63 log(0.03*x2**12 - 0.04*x2**11 - 0.15*x2**10 + 0.15*x2**9 + 0.3*x2**8 - 0.26*x2**7 - 0.25*x2**6 + 0.16*x2**5 + 0.12*x2**4 - 0.05*x2**3 - 0.06*x2**2 + 0.09*x2 + 0.92)\n",
      "134.24 29.92 tan(-0.02*x2**12 + 0.01*x2**11 + 0.08*x2**10 - 0.08*x2**9 - 0.16*x2**8 + 0.12*x2**7 + 0.16*x2**6 - 0.12*x2**5 - 0.04*x2**4 + 0.03*x2**3 - 0.04*x2**2 + 0.09*x2 - 0.08)\n",
      "135.5 28.91 sin(0.02*x2**12 - 0.02*x2**11 - 0.1*x2**10 + 0.08*x2**9 + 0.21*x2**8 - 0.15*x2**7 - 0.18*x2**6 + 0.09*x2**5 + 0.1*x2**4 - 0.03*x2**3 - 0.06*x2**2 + 0.1*x2 - 0.08)\n",
      "\n",
      "Checking for brute force + \n",
      "\n",
      "Trying to solve mysteries with brute force...\n",
      "Trying to solve results/mystery_world_squared/lj.txt_train\n"
     ]
    },
    {
     "name": "stderr",
     "output_type": "stream",
     "text": [
      "Traceback (most recent call last):\n",
      "  File \"/Users/Collin/anaconda3/envs/Feynman/bin/feynman_sr_mdl_plus\", line 5, in <module>\n",
      "    from aifeynman._symbolic_regress_mdl2 import go\n",
      "ImportError: dlopen(/Users/Collin/anaconda3/envs/Feynman/lib/python3.7/site-packages/aifeynman/_symbolic_regress_mdl2.cpython-37m-darwin.so, 2): Library not loaded: /usr/local/opt/gcc/lib/gcc/8/libgfortran.5.dylib\n",
      "  Referenced from: /Users/Collin/anaconda3/envs/Feynman/lib/python3.7/site-packages/aifeynman/_symbolic_regress_mdl2.cpython-37m-darwin.so\n",
      "  Reason: image not found\n"
     ]
    },
    {
     "name": "stdout",
     "output_type": "stream",
     "text": [
      "Checking for brute force * \n",
      "\n",
      "Trying to solve mysteries with brute force...\n",
      "Trying to solve results/mystery_world_squared/lj.txt_train\n"
     ]
    },
    {
     "name": "stderr",
     "output_type": "stream",
     "text": [
      "Traceback (most recent call last):\n",
      "  File \"/Users/Collin/anaconda3/envs/Feynman/bin/feynman_sr_mdl_mult\", line 5, in <module>\n",
      "    from aifeynman._symbolic_regress_mdl3 import go\n",
      "ImportError: dlopen(/Users/Collin/anaconda3/envs/Feynman/lib/python3.7/site-packages/aifeynman/_symbolic_regress_mdl3.cpython-37m-darwin.so, 2): Library not loaded: /usr/local/opt/gcc/lib/gcc/8/libgfortran.5.dylib\n",
      "  Referenced from: /Users/Collin/anaconda3/envs/Feynman/lib/python3.7/site-packages/aifeynman/_symbolic_regress_mdl3.cpython-37m-darwin.so\n",
      "  Reason: image not found\n"
     ]
    },
    {
     "name": "stdout",
     "output_type": "stream",
     "text": [
      "Checking polyfit \n",
      "\n",
      "Pareto frontier in the current branch:\n",
      "\n",
      "Complexity #  MDL Loss #  Expression\n",
      "84.81 39.71 0.01*x2**8 - 0.02*x2**7 + 0.01*x2**6 - 0.01*x2**5 + 0.02*x2**4 - 0.05*x2**2 + 0.09*x2 - 0.08\n",
      "133.62 33.63 log(0.03*x2**12 - 0.04*x2**11 - 0.15*x2**10 + 0.15*x2**9 + 0.3*x2**8 - 0.26*x2**7 - 0.25*x2**6 + 0.16*x2**5 + 0.12*x2**4 - 0.05*x2**3 - 0.06*x2**2 + 0.09*x2 + 0.92)\n",
      "134.24 29.92 tan(-0.02*x2**12 + 0.01*x2**11 + 0.08*x2**10 - 0.08*x2**9 - 0.16*x2**8 + 0.12*x2**7 + 0.16*x2**6 - 0.12*x2**5 - 0.04*x2**4 + 0.03*x2**3 - 0.04*x2**2 + 0.09*x2 - 0.08)\n",
      "135.5 28.91 sin(0.02*x2**12 - 0.02*x2**11 - 0.1*x2**10 + 0.08*x2**9 + 0.21*x2**8 - 0.15*x2**7 - 0.18*x2**6 + 0.09*x2**5 + 0.1*x2**4 - 0.03*x2**3 - 0.06*x2**2 + 0.1*x2 - 0.08)\n",
      "\n",
      "Checking for brute force + \n",
      "\n",
      "Trying to solve mysteries with brute force...\n",
      "Trying to solve results/mystery_world_tan/lj.txt_train\n"
     ]
    },
    {
     "name": "stderr",
     "output_type": "stream",
     "text": [
      "Traceback (most recent call last):\n",
      "  File \"/Users/Collin/anaconda3/envs/Feynman/bin/feynman_sr_mdl_plus\", line 5, in <module>\n",
      "    from aifeynman._symbolic_regress_mdl2 import go\n",
      "ImportError: dlopen(/Users/Collin/anaconda3/envs/Feynman/lib/python3.7/site-packages/aifeynman/_symbolic_regress_mdl2.cpython-37m-darwin.so, 2): Library not loaded: /usr/local/opt/gcc/lib/gcc/8/libgfortran.5.dylib\n",
      "  Referenced from: /Users/Collin/anaconda3/envs/Feynman/lib/python3.7/site-packages/aifeynman/_symbolic_regress_mdl2.cpython-37m-darwin.so\n",
      "  Reason: image not found\n"
     ]
    },
    {
     "name": "stdout",
     "output_type": "stream",
     "text": [
      "Checking for brute force * \n",
      "\n",
      "Trying to solve mysteries with brute force...\n",
      "Trying to solve results/mystery_world_tan/lj.txt_train\n"
     ]
    },
    {
     "name": "stderr",
     "output_type": "stream",
     "text": [
      "Traceback (most recent call last):\n",
      "  File \"/Users/Collin/anaconda3/envs/Feynman/bin/feynman_sr_mdl_mult\", line 5, in <module>\n",
      "    from aifeynman._symbolic_regress_mdl3 import go\n",
      "ImportError: dlopen(/Users/Collin/anaconda3/envs/Feynman/lib/python3.7/site-packages/aifeynman/_symbolic_regress_mdl3.cpython-37m-darwin.so, 2): Library not loaded: /usr/local/opt/gcc/lib/gcc/8/libgfortran.5.dylib\n",
      "  Referenced from: /Users/Collin/anaconda3/envs/Feynman/lib/python3.7/site-packages/aifeynman/_symbolic_regress_mdl3.cpython-37m-darwin.so\n",
      "  Reason: image not found\n"
     ]
    },
    {
     "name": "stdout",
     "output_type": "stream",
     "text": [
      "Checking polyfit \n",
      "\n",
      "Pareto frontier in the current branch:\n",
      "\n",
      "Complexity #  MDL Loss #  Expression\n",
      "84.81 39.71 0.01*x2**8 - 0.02*x2**7 + 0.01*x2**6 - 0.01*x2**5 + 0.02*x2**4 - 0.05*x2**2 + 0.09*x2 - 0.08\n",
      "133.62 33.63 log(0.03*x2**12 - 0.04*x2**11 - 0.15*x2**10 + 0.15*x2**9 + 0.3*x2**8 - 0.26*x2**7 - 0.25*x2**6 + 0.16*x2**5 + 0.12*x2**4 - 0.05*x2**3 - 0.06*x2**2 + 0.09*x2 + 0.92)\n",
      "134.24 29.92 tan(-0.02*x2**12 + 0.01*x2**11 + 0.08*x2**10 - 0.08*x2**9 - 0.16*x2**8 + 0.12*x2**7 + 0.16*x2**6 - 0.12*x2**5 - 0.04*x2**4 + 0.03*x2**3 - 0.04*x2**2 + 0.09*x2 - 0.08)\n",
      "135.5 28.91 sin(0.02*x2**12 - 0.02*x2**11 - 0.1*x2**10 + 0.08*x2**9 + 0.21*x2**8 - 0.15*x2**7 - 0.18*x2**6 + 0.09*x2**5 + 0.1*x2**4 - 0.03*x2**3 - 0.06*x2**2 + 0.1*x2 - 0.08)\n",
      "\n",
      "Training a NN on the data... \n",
      "\n",
      "NN loss:  (tensor(0.0002, grad_fn=<DivBackward0>), SimpleNet(\n",
      "  (linear1): Linear(in_features=3, out_features=128, bias=True)\n",
      "  (linear2): Linear(in_features=128, out_features=128, bias=True)\n",
      "  (linear3): Linear(in_features=128, out_features=64, bias=True)\n",
      "  (linear4): Linear(in_features=64, out_features=64, bias=True)\n",
      "  (linear5): Linear(in_features=64, out_features=1, bias=True)\n",
      ")) \n",
      "\n",
      "Checking for symmetries...\n",
      "\n",
      "Checking for separabilities...\n",
      "\n",
      "Checking for compositionality...\n",
      "\n",
      "Checking for generalized symmetry...\n",
      "identify_decompositions ../LJ_input/ lj.txt_train\n",
      "Trying (0, 1)\n",
      "(-0.6020599913279624, (0, 1))\n",
      "Trying (0, 2)\n",
      "(nan, (0, 2))\n",
      "Trying (1, 2)\n",
      "(nan, (1, 2))\n",
      "mask [ True  True False]\n",
      "Trying to solve mysteries with brute force...\n",
      "Trying to solve results/gradients_gen_sym_lj.txt_train\n"
     ]
    },
    {
     "name": "stderr",
     "output_type": "stream",
     "text": [
      "Traceback (most recent call last):\n",
      "  File \"/Users/Collin/anaconda3/envs/Feynman/bin/feynman_sr_mdl5\", line 5, in <module>\n",
      "    from aifeynman._symbolic_regress_mdl5 import go\n",
      "ImportError: dlopen(/Users/Collin/anaconda3/envs/Feynman/lib/python3.7/site-packages/aifeynman/_symbolic_regress_mdl5.cpython-37m-darwin.so, 2): Library not loaded: /usr/local/opt/gcc/lib/gcc/8/libgfortran.5.dylib\n",
      "  Referenced from: /Users/Collin/anaconda3/envs/Feynman/lib/python3.7/site-packages/aifeynman/_symbolic_regress_mdl5.cpython-37m-darwin.so\n",
      "  Reason: image not found\n"
     ]
    },
    {
     "ename": "OSError",
     "evalue": "results_gen_sym.dat not found.",
     "output_type": "error",
     "traceback": [
      "\u001b[0;31m---------------------------------------------------------------------------\u001b[0m",
      "\u001b[0;31mOSError\u001b[0m                                   Traceback (most recent call last)",
      "\u001b[0;32m/var/folders/tg/h677t1kx5zxd5srj2vt8fzw80000gn/T/ipykernel_64502/1759548879.py\u001b[0m in \u001b[0;36m<module>\u001b[0;34m\u001b[0m\n\u001b[1;32m      1\u001b[0m run_aifeynman(\"../LJ_input/\", \"lj.txt\", 30,\n\u001b[0;32m----> 2\u001b[0;31m               \"14ops.txt\", polyfit_deg=12, NN_epochs=500)\n\u001b[0m",
      "\u001b[0;32m~/anaconda3/envs/Feynman/lib/python3.7/site-packages/aifeynman/S_run_aifeynman.py\u001b[0m in \u001b[0;36mrun_aifeynman\u001b[0;34m(pathdir, filename, BF_try_time, BF_ops_file_type, polyfit_deg, NN_epochs, vars_name, test_percentage)\u001b[0m\n\u001b[1;32m    272\u001b[0m     \u001b[0mPA\u001b[0m \u001b[0;34m=\u001b[0m \u001b[0mParetoSet\u001b[0m\u001b[0;34m(\u001b[0m\u001b[0;34m)\u001b[0m\u001b[0;34m\u001b[0m\u001b[0;34m\u001b[0m\u001b[0m\n\u001b[1;32m    273\u001b[0m     \u001b[0;31m# Run the code on the train data\u001b[0m\u001b[0;34m\u001b[0m\u001b[0;34m\u001b[0m\u001b[0;34m\u001b[0m\u001b[0m\n\u001b[0;32m--> 274\u001b[0;31m     \u001b[0mPA\u001b[0m \u001b[0;34m=\u001b[0m \u001b[0mrun_AI_all\u001b[0m\u001b[0;34m(\u001b[0m\u001b[0mpathdir\u001b[0m\u001b[0;34m,\u001b[0m\u001b[0mfilename\u001b[0m\u001b[0;34m+\u001b[0m\u001b[0;34m\"_train\"\u001b[0m\u001b[0;34m,\u001b[0m\u001b[0mBF_try_time\u001b[0m\u001b[0;34m,\u001b[0m\u001b[0mBF_ops_file_type\u001b[0m\u001b[0;34m,\u001b[0m \u001b[0mpolyfit_deg\u001b[0m\u001b[0;34m,\u001b[0m \u001b[0mNN_epochs\u001b[0m\u001b[0;34m,\u001b[0m \u001b[0mPA\u001b[0m\u001b[0;34m=\u001b[0m\u001b[0mPA\u001b[0m\u001b[0;34m)\u001b[0m\u001b[0;34m\u001b[0m\u001b[0;34m\u001b[0m\u001b[0m\n\u001b[0m\u001b[1;32m    275\u001b[0m     \u001b[0mPA_list\u001b[0m \u001b[0;34m=\u001b[0m \u001b[0mPA\u001b[0m\u001b[0;34m.\u001b[0m\u001b[0mget_pareto_points\u001b[0m\u001b[0;34m(\u001b[0m\u001b[0;34m)\u001b[0m\u001b[0;34m\u001b[0m\u001b[0;34m\u001b[0m\u001b[0m\n\u001b[1;32m    276\u001b[0m \u001b[0;34m\u001b[0m\u001b[0m\n",
      "\u001b[0;32m~/anaconda3/envs/Feynman/lib/python3.7/site-packages/aifeynman/S_run_aifeynman.py\u001b[0m in \u001b[0;36mrun_AI_all\u001b[0;34m(pathdir, filename, BF_try_time, BF_ops_file_type, polyfit_deg, NN_epochs, PA)\u001b[0m\n\u001b[1;32m    154\u001b[0m             \u001b[0mdecomp_idx\u001b[0m \u001b[0;34m=\u001b[0m \u001b[0midentify_decompositions\u001b[0m\u001b[0;34m(\u001b[0m\u001b[0mpathdir\u001b[0m\u001b[0;34m,\u001b[0m\u001b[0mfilename\u001b[0m\u001b[0;34m,\u001b[0m \u001b[0mmodel_feynman\u001b[0m\u001b[0;34m)\u001b[0m\u001b[0;34m\u001b[0m\u001b[0;34m\u001b[0m\u001b[0m\n\u001b[1;32m    155\u001b[0m             \u001b[0mbrute_force_gen_sym\u001b[0m\u001b[0;34m(\u001b[0m\u001b[0;34m\"results/\"\u001b[0m\u001b[0;34m,\u001b[0m\u001b[0;34m\"gradients_gen_sym_%s\"\u001b[0m \u001b[0;34m%\u001b[0m\u001b[0mfilename\u001b[0m\u001b[0;34m,\u001b[0m\u001b[0;36m600\u001b[0m\u001b[0;34m,\u001b[0m\u001b[0;34m\"14ops.txt\"\u001b[0m\u001b[0;34m)\u001b[0m\u001b[0;34m\u001b[0m\u001b[0;34m\u001b[0m\u001b[0m\n\u001b[0;32m--> 156\u001b[0;31m             \u001b[0mbf_all_output\u001b[0m \u001b[0;34m=\u001b[0m \u001b[0mnp\u001b[0m\u001b[0;34m.\u001b[0m\u001b[0mloadtxt\u001b[0m\u001b[0;34m(\u001b[0m\u001b[0;34m\"results_gen_sym.dat\"\u001b[0m\u001b[0;34m,\u001b[0m \u001b[0mdtype\u001b[0m\u001b[0;34m=\u001b[0m\u001b[0;34m\"str\"\u001b[0m\u001b[0;34m)\u001b[0m\u001b[0;34m\u001b[0m\u001b[0;34m\u001b[0m\u001b[0m\n\u001b[0m\u001b[1;32m    157\u001b[0m \u001b[0;34m\u001b[0m\u001b[0m\n\u001b[1;32m    158\u001b[0m             \u001b[0;32mfor\u001b[0m \u001b[0mbf_i\u001b[0m \u001b[0;32min\u001b[0m \u001b[0mrange\u001b[0m\u001b[0;34m(\u001b[0m\u001b[0mlen\u001b[0m\u001b[0;34m(\u001b[0m\u001b[0mbf_all_output\u001b[0m\u001b[0;34m)\u001b[0m\u001b[0;34m)\u001b[0m\u001b[0;34m:\u001b[0m\u001b[0;34m\u001b[0m\u001b[0;34m\u001b[0m\u001b[0m\n",
      "\u001b[0;32m~/anaconda3/envs/Feynman/lib/python3.7/site-packages/numpy/lib/npyio.py\u001b[0m in \u001b[0;36mloadtxt\u001b[0;34m(fname, dtype, comments, delimiter, converters, skiprows, usecols, unpack, ndmin, encoding, max_rows, like)\u001b[0m\n\u001b[1;32m   1065\u001b[0m             \u001b[0mfname\u001b[0m \u001b[0;34m=\u001b[0m \u001b[0mos_fspath\u001b[0m\u001b[0;34m(\u001b[0m\u001b[0mfname\u001b[0m\u001b[0;34m)\u001b[0m\u001b[0;34m\u001b[0m\u001b[0;34m\u001b[0m\u001b[0m\n\u001b[1;32m   1066\u001b[0m         \u001b[0;32mif\u001b[0m \u001b[0m_is_string_like\u001b[0m\u001b[0;34m(\u001b[0m\u001b[0mfname\u001b[0m\u001b[0;34m)\u001b[0m\u001b[0;34m:\u001b[0m\u001b[0;34m\u001b[0m\u001b[0;34m\u001b[0m\u001b[0m\n\u001b[0;32m-> 1067\u001b[0;31m             \u001b[0mfh\u001b[0m \u001b[0;34m=\u001b[0m \u001b[0mnp\u001b[0m\u001b[0;34m.\u001b[0m\u001b[0mlib\u001b[0m\u001b[0;34m.\u001b[0m\u001b[0m_datasource\u001b[0m\u001b[0;34m.\u001b[0m\u001b[0mopen\u001b[0m\u001b[0;34m(\u001b[0m\u001b[0mfname\u001b[0m\u001b[0;34m,\u001b[0m \u001b[0;34m'rt'\u001b[0m\u001b[0;34m,\u001b[0m \u001b[0mencoding\u001b[0m\u001b[0;34m=\u001b[0m\u001b[0mencoding\u001b[0m\u001b[0;34m)\u001b[0m\u001b[0;34m\u001b[0m\u001b[0;34m\u001b[0m\u001b[0m\n\u001b[0m\u001b[1;32m   1068\u001b[0m             \u001b[0mfencoding\u001b[0m \u001b[0;34m=\u001b[0m \u001b[0mgetattr\u001b[0m\u001b[0;34m(\u001b[0m\u001b[0mfh\u001b[0m\u001b[0;34m,\u001b[0m \u001b[0;34m'encoding'\u001b[0m\u001b[0;34m,\u001b[0m \u001b[0;34m'latin1'\u001b[0m\u001b[0;34m)\u001b[0m\u001b[0;34m\u001b[0m\u001b[0;34m\u001b[0m\u001b[0m\n\u001b[1;32m   1069\u001b[0m             \u001b[0mfh\u001b[0m \u001b[0;34m=\u001b[0m \u001b[0miter\u001b[0m\u001b[0;34m(\u001b[0m\u001b[0mfh\u001b[0m\u001b[0;34m)\u001b[0m\u001b[0;34m\u001b[0m\u001b[0;34m\u001b[0m\u001b[0m\n",
      "\u001b[0;32m~/anaconda3/envs/Feynman/lib/python3.7/site-packages/numpy/lib/_datasource.py\u001b[0m in \u001b[0;36mopen\u001b[0;34m(path, mode, destpath, encoding, newline)\u001b[0m\n\u001b[1;32m    191\u001b[0m \u001b[0;34m\u001b[0m\u001b[0m\n\u001b[1;32m    192\u001b[0m     \u001b[0mds\u001b[0m \u001b[0;34m=\u001b[0m \u001b[0mDataSource\u001b[0m\u001b[0;34m(\u001b[0m\u001b[0mdestpath\u001b[0m\u001b[0;34m)\u001b[0m\u001b[0;34m\u001b[0m\u001b[0;34m\u001b[0m\u001b[0m\n\u001b[0;32m--> 193\u001b[0;31m     \u001b[0;32mreturn\u001b[0m \u001b[0mds\u001b[0m\u001b[0;34m.\u001b[0m\u001b[0mopen\u001b[0m\u001b[0;34m(\u001b[0m\u001b[0mpath\u001b[0m\u001b[0;34m,\u001b[0m \u001b[0mmode\u001b[0m\u001b[0;34m,\u001b[0m \u001b[0mencoding\u001b[0m\u001b[0;34m=\u001b[0m\u001b[0mencoding\u001b[0m\u001b[0;34m,\u001b[0m \u001b[0mnewline\u001b[0m\u001b[0;34m=\u001b[0m\u001b[0mnewline\u001b[0m\u001b[0;34m)\u001b[0m\u001b[0;34m\u001b[0m\u001b[0;34m\u001b[0m\u001b[0m\n\u001b[0m\u001b[1;32m    194\u001b[0m \u001b[0;34m\u001b[0m\u001b[0m\n\u001b[1;32m    195\u001b[0m \u001b[0;34m\u001b[0m\u001b[0m\n",
      "\u001b[0;32m~/anaconda3/envs/Feynman/lib/python3.7/site-packages/numpy/lib/_datasource.py\u001b[0m in \u001b[0;36mopen\u001b[0;34m(self, path, mode, encoding, newline)\u001b[0m\n\u001b[1;32m    531\u001b[0m                                       encoding=encoding, newline=newline)\n\u001b[1;32m    532\u001b[0m         \u001b[0;32melse\u001b[0m\u001b[0;34m:\u001b[0m\u001b[0;34m\u001b[0m\u001b[0;34m\u001b[0m\u001b[0m\n\u001b[0;32m--> 533\u001b[0;31m             \u001b[0;32mraise\u001b[0m \u001b[0mIOError\u001b[0m\u001b[0;34m(\u001b[0m\u001b[0;34m\"%s not found.\"\u001b[0m \u001b[0;34m%\u001b[0m \u001b[0mpath\u001b[0m\u001b[0;34m)\u001b[0m\u001b[0;34m\u001b[0m\u001b[0;34m\u001b[0m\u001b[0m\n\u001b[0m\u001b[1;32m    534\u001b[0m \u001b[0;34m\u001b[0m\u001b[0m\n\u001b[1;32m    535\u001b[0m \u001b[0;34m\u001b[0m\u001b[0m\n",
      "\u001b[0;31mOSError\u001b[0m: results_gen_sym.dat not found."
     ]
    }
   ],
   "source": [
    "run_aifeynman(\"../LJ_input/\", \"lj.txt\", 30,\n",
    "              \"14ops.txt\", polyfit_deg=12, NN_epochs=500)"
   ]
  }
 ],
 "metadata": {
  "interpreter": {
   "hash": "ec1e202c50e00515b8d7b227791c197019012e250085574511432f5aa979b512"
  },
  "kernelspec": {
   "display_name": "Python 3.7.11 64-bit ('AI_Feynman': conda)",
   "language": "python",
   "name": "python3"
  },
  "language_info": {
   "codemirror_mode": {
    "name": "ipython",
    "version": 3
   },
   "file_extension": ".py",
   "mimetype": "text/x-python",
   "name": "python",
   "nbconvert_exporter": "python",
   "pygments_lexer": "ipython3",
   "version": "3.7.11"
  },
  "orig_nbformat": 4
 },
 "nbformat": 4,
 "nbformat_minor": 2
}
